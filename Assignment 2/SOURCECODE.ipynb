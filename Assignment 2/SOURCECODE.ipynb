{
  "nbformat": 4,
  "nbformat_minor": 0,
  "metadata": {
    "colab": {
      "name": "Assignment 2.ipynb",
      "provenance": [],
      "collapsed_sections": []
    },
    "kernelspec": {
      "name": "python3",
      "display_name": "Python 3"
    }
  },
  "cells": [
    {
      "cell_type": "markdown",
      "metadata": {
        "id": "NQPL_krWhtOt"
      },
      "source": [
        "# ***ASSIGNMENT 2***\n",
        "SUBJECT : IT702 - DEEP LEARNING\n",
        "\n",
        "\n",
        "---\n",
        "\n",
        "\n",
        "> **SYBMITTED BY : SHANKARANARAYAN N, M.TECH(RESEARCH), DEPARTMENT OF INFORMATION TECHNOLOGY**\n",
        "\n",
        "\n",
        "\n",
        "\n",
        "\n",
        "\n",
        "---\n",
        "\n"
      ]
    },
    {
      "cell_type": "markdown",
      "metadata": {
        "id": "iS2cjYH7hpvn"
      },
      "source": [
        "**NECESSARY IMPORTS**\n",
        "\n",
        "---\n",
        "\n"
      ]
    },
    {
      "cell_type": "code",
      "metadata": {
        "id": "DCyhLur1gdWH"
      },
      "source": [
        "import numpy as np\n",
        "import pandas as pd\n",
        "import matplotlib.pyplot as plt\n",
        "import seaborn as sns\n",
        "from sklearn.model_selection import train_test_split\n",
        "from sklearn import svm\n",
        "from sklearn.metrics import classification_report\n",
        "from sklearn.model_selection import GridSearchCV\n",
        "from sklearn.ensemble import RandomForestClassifier\n",
        "\n",
        "x=np.array([0.001])\n",
        "y=np.array([0.001])\n",
        "z=np.array([0.001])\n"
      ],
      "execution_count": null,
      "outputs": []
    },
    {
      "cell_type": "markdown",
      "metadata": {
        "id": "_0rYLlMph5V0"
      },
      "source": [
        "**IMPORTING THE DATA AND MODIFYING IT TO OUR NEED**\n",
        "\n",
        "---\n",
        "\n"
      ]
    },
    {
      "cell_type": "code",
      "metadata": {
        "id": "OtavW8GhoT8Q"
      },
      "source": [
        "# Import PyDrive and associated libraries.\n",
        "from pydrive.auth import GoogleAuth\n",
        "from pydrive.drive import GoogleDrive\n",
        "from google.colab import auth\n",
        "from oauth2client.client import GoogleCredentials\n",
        "\n",
        "# Authenticate and create the PyDrive client.\n",
        "auth.authenticate_user()\n",
        "gauth = GoogleAuth()\n",
        "gauth.credentials = GoogleCredentials.get_application_default()\n",
        "drive = GoogleDrive(gauth)\n"
      ],
      "execution_count": null,
      "outputs": []
    },
    {
      "cell_type": "code",
      "metadata": {
        "id": "O1LHEbBgoWnA"
      },
      "source": [
        "downloaded = drive.CreateFile({'id':'1ubeDWpwWt0FJoDxZkttELi2vxpquzk_M'})\n",
        "downloaded.GetContentFolder('PNEMONIA')"
      ],
      "execution_count": null,
      "outputs": []
    },
    {
      "cell_type": "code",
      "metadata": {
        "id": "lVQhJAPEgd8k",
        "colab": {
          "base_uri": "https://localhost:8080/",
          "height": 422
        },
        "outputId": "f6475f86-2ad4-422f-db75-ed6dbf8c1952"
      },
      "source": [
        "df = pd.read_csv('assignment2data.csv')\n",
        "df[\"column_a\"].replace({True:1 }, inplace=True)\n",
        "df[\"column_a\"].replace({False:0 }, inplace=True)\n",
        "df[\"column_b\"].replace({True:1 }, inplace=True)\n",
        "df[\"column_b\"].replace({False:0 }, inplace=True)\n",
        "df[\"column_ai\"].replace({\"g\":1 }, inplace=True)\n",
        "df[\"column_ai\"].replace({\"b\":0 }, inplace=True)\n",
        "df"
      ],
      "execution_count": null,
      "outputs": [
        {
          "output_type": "execute_result",
          "data": {
            "text/html": [
              "<div>\n",
              "<style scoped>\n",
              "    .dataframe tbody tr th:only-of-type {\n",
              "        vertical-align: middle;\n",
              "    }\n",
              "\n",
              "    .dataframe tbody tr th {\n",
              "        vertical-align: top;\n",
              "    }\n",
              "\n",
              "    .dataframe thead th {\n",
              "        text-align: right;\n",
              "    }\n",
              "</style>\n",
              "<table border=\"1\" class=\"dataframe\">\n",
              "  <thead>\n",
              "    <tr style=\"text-align: right;\">\n",
              "      <th></th>\n",
              "      <th>column_a</th>\n",
              "      <th>column_b</th>\n",
              "      <th>column_c</th>\n",
              "      <th>column_d</th>\n",
              "      <th>column_e</th>\n",
              "      <th>column_f</th>\n",
              "      <th>column_g</th>\n",
              "      <th>column_h</th>\n",
              "      <th>column_i</th>\n",
              "      <th>column_j</th>\n",
              "      <th>column_k</th>\n",
              "      <th>column_l</th>\n",
              "      <th>column_m</th>\n",
              "      <th>column_n</th>\n",
              "      <th>column_o</th>\n",
              "      <th>column_p</th>\n",
              "      <th>column_q</th>\n",
              "      <th>column_r</th>\n",
              "      <th>column_s</th>\n",
              "      <th>column_t</th>\n",
              "      <th>column_u</th>\n",
              "      <th>column_v</th>\n",
              "      <th>column_w</th>\n",
              "      <th>column_x</th>\n",
              "      <th>column_y</th>\n",
              "      <th>column_z</th>\n",
              "      <th>column_aa</th>\n",
              "      <th>column_ab</th>\n",
              "      <th>column_ac</th>\n",
              "      <th>column_ad</th>\n",
              "      <th>column_ae</th>\n",
              "      <th>column_af</th>\n",
              "      <th>column_ag</th>\n",
              "      <th>column_ah</th>\n",
              "      <th>column_ai</th>\n",
              "    </tr>\n",
              "  </thead>\n",
              "  <tbody>\n",
              "    <tr>\n",
              "      <th>0</th>\n",
              "      <td>1</td>\n",
              "      <td>0</td>\n",
              "      <td>0.99539</td>\n",
              "      <td>-0.05889</td>\n",
              "      <td>0.85243</td>\n",
              "      <td>0.02306</td>\n",
              "      <td>0.83398</td>\n",
              "      <td>-0.37708</td>\n",
              "      <td>1.00000</td>\n",
              "      <td>0.03760</td>\n",
              "      <td>0.85243</td>\n",
              "      <td>-0.17755</td>\n",
              "      <td>0.59755</td>\n",
              "      <td>-0.44945</td>\n",
              "      <td>0.60536</td>\n",
              "      <td>-0.38223</td>\n",
              "      <td>0.84356</td>\n",
              "      <td>-0.38542</td>\n",
              "      <td>0.58212</td>\n",
              "      <td>-0.32192</td>\n",
              "      <td>0.56971</td>\n",
              "      <td>-0.29674</td>\n",
              "      <td>0.36946</td>\n",
              "      <td>-0.47357</td>\n",
              "      <td>0.56811</td>\n",
              "      <td>-0.51171</td>\n",
              "      <td>0.41078</td>\n",
              "      <td>-0.46168</td>\n",
              "      <td>0.21266</td>\n",
              "      <td>-0.34090</td>\n",
              "      <td>0.42267</td>\n",
              "      <td>-0.54487</td>\n",
              "      <td>0.18641</td>\n",
              "      <td>-0.45300</td>\n",
              "      <td>1</td>\n",
              "    </tr>\n",
              "    <tr>\n",
              "      <th>1</th>\n",
              "      <td>1</td>\n",
              "      <td>0</td>\n",
              "      <td>1.00000</td>\n",
              "      <td>-0.18829</td>\n",
              "      <td>0.93035</td>\n",
              "      <td>-0.36156</td>\n",
              "      <td>-0.10868</td>\n",
              "      <td>-0.93597</td>\n",
              "      <td>1.00000</td>\n",
              "      <td>-0.04549</td>\n",
              "      <td>0.50874</td>\n",
              "      <td>-0.67743</td>\n",
              "      <td>0.34432</td>\n",
              "      <td>-0.69707</td>\n",
              "      <td>-0.51685</td>\n",
              "      <td>-0.97515</td>\n",
              "      <td>0.05499</td>\n",
              "      <td>-0.62237</td>\n",
              "      <td>0.33109</td>\n",
              "      <td>-1.00000</td>\n",
              "      <td>-0.13151</td>\n",
              "      <td>-0.45300</td>\n",
              "      <td>-0.18056</td>\n",
              "      <td>-0.35734</td>\n",
              "      <td>-0.20332</td>\n",
              "      <td>-0.26569</td>\n",
              "      <td>-0.20468</td>\n",
              "      <td>-0.18401</td>\n",
              "      <td>-0.19040</td>\n",
              "      <td>-0.11593</td>\n",
              "      <td>-0.16626</td>\n",
              "      <td>-0.06288</td>\n",
              "      <td>-0.13738</td>\n",
              "      <td>-0.02447</td>\n",
              "      <td>0</td>\n",
              "    </tr>\n",
              "    <tr>\n",
              "      <th>2</th>\n",
              "      <td>1</td>\n",
              "      <td>0</td>\n",
              "      <td>1.00000</td>\n",
              "      <td>-0.03365</td>\n",
              "      <td>1.00000</td>\n",
              "      <td>0.00485</td>\n",
              "      <td>1.00000</td>\n",
              "      <td>-0.12062</td>\n",
              "      <td>0.88965</td>\n",
              "      <td>0.01198</td>\n",
              "      <td>0.73082</td>\n",
              "      <td>0.05346</td>\n",
              "      <td>0.85443</td>\n",
              "      <td>0.00827</td>\n",
              "      <td>0.54591</td>\n",
              "      <td>0.00299</td>\n",
              "      <td>0.83775</td>\n",
              "      <td>-0.13644</td>\n",
              "      <td>0.75535</td>\n",
              "      <td>-0.08540</td>\n",
              "      <td>0.70887</td>\n",
              "      <td>-0.27502</td>\n",
              "      <td>0.43385</td>\n",
              "      <td>-0.12062</td>\n",
              "      <td>0.57528</td>\n",
              "      <td>-0.40220</td>\n",
              "      <td>0.58984</td>\n",
              "      <td>-0.22145</td>\n",
              "      <td>0.43100</td>\n",
              "      <td>-0.17365</td>\n",
              "      <td>0.60436</td>\n",
              "      <td>-0.24180</td>\n",
              "      <td>0.56045</td>\n",
              "      <td>-0.38238</td>\n",
              "      <td>1</td>\n",
              "    </tr>\n",
              "    <tr>\n",
              "      <th>3</th>\n",
              "      <td>1</td>\n",
              "      <td>0</td>\n",
              "      <td>1.00000</td>\n",
              "      <td>-0.45161</td>\n",
              "      <td>1.00000</td>\n",
              "      <td>1.00000</td>\n",
              "      <td>0.71216</td>\n",
              "      <td>-1.00000</td>\n",
              "      <td>0.00000</td>\n",
              "      <td>0.00000</td>\n",
              "      <td>0.00000</td>\n",
              "      <td>0.00000</td>\n",
              "      <td>0.00000</td>\n",
              "      <td>0.00000</td>\n",
              "      <td>-1.00000</td>\n",
              "      <td>0.14516</td>\n",
              "      <td>0.54094</td>\n",
              "      <td>-0.39330</td>\n",
              "      <td>-1.00000</td>\n",
              "      <td>-0.54467</td>\n",
              "      <td>-0.69975</td>\n",
              "      <td>1.00000</td>\n",
              "      <td>0.00000</td>\n",
              "      <td>0.00000</td>\n",
              "      <td>1.00000</td>\n",
              "      <td>0.90695</td>\n",
              "      <td>0.51613</td>\n",
              "      <td>1.00000</td>\n",
              "      <td>1.00000</td>\n",
              "      <td>-0.20099</td>\n",
              "      <td>0.25682</td>\n",
              "      <td>1.00000</td>\n",
              "      <td>-0.32382</td>\n",
              "      <td>1.00000</td>\n",
              "      <td>0</td>\n",
              "    </tr>\n",
              "    <tr>\n",
              "      <th>4</th>\n",
              "      <td>1</td>\n",
              "      <td>0</td>\n",
              "      <td>1.00000</td>\n",
              "      <td>-0.02401</td>\n",
              "      <td>0.94140</td>\n",
              "      <td>0.06531</td>\n",
              "      <td>0.92106</td>\n",
              "      <td>-0.23255</td>\n",
              "      <td>0.77152</td>\n",
              "      <td>-0.16399</td>\n",
              "      <td>0.52798</td>\n",
              "      <td>-0.20275</td>\n",
              "      <td>0.56409</td>\n",
              "      <td>-0.00712</td>\n",
              "      <td>0.34395</td>\n",
              "      <td>-0.27457</td>\n",
              "      <td>0.52940</td>\n",
              "      <td>-0.21780</td>\n",
              "      <td>0.45107</td>\n",
              "      <td>-0.17813</td>\n",
              "      <td>0.05982</td>\n",
              "      <td>-0.35575</td>\n",
              "      <td>0.02309</td>\n",
              "      <td>-0.52879</td>\n",
              "      <td>0.03286</td>\n",
              "      <td>-0.65158</td>\n",
              "      <td>0.13290</td>\n",
              "      <td>-0.53206</td>\n",
              "      <td>0.02431</td>\n",
              "      <td>-0.62197</td>\n",
              "      <td>-0.05707</td>\n",
              "      <td>-0.59573</td>\n",
              "      <td>-0.04608</td>\n",
              "      <td>-0.65697</td>\n",
              "      <td>1</td>\n",
              "    </tr>\n",
              "    <tr>\n",
              "      <th>...</th>\n",
              "      <td>...</td>\n",
              "      <td>...</td>\n",
              "      <td>...</td>\n",
              "      <td>...</td>\n",
              "      <td>...</td>\n",
              "      <td>...</td>\n",
              "      <td>...</td>\n",
              "      <td>...</td>\n",
              "      <td>...</td>\n",
              "      <td>...</td>\n",
              "      <td>...</td>\n",
              "      <td>...</td>\n",
              "      <td>...</td>\n",
              "      <td>...</td>\n",
              "      <td>...</td>\n",
              "      <td>...</td>\n",
              "      <td>...</td>\n",
              "      <td>...</td>\n",
              "      <td>...</td>\n",
              "      <td>...</td>\n",
              "      <td>...</td>\n",
              "      <td>...</td>\n",
              "      <td>...</td>\n",
              "      <td>...</td>\n",
              "      <td>...</td>\n",
              "      <td>...</td>\n",
              "      <td>...</td>\n",
              "      <td>...</td>\n",
              "      <td>...</td>\n",
              "      <td>...</td>\n",
              "      <td>...</td>\n",
              "      <td>...</td>\n",
              "      <td>...</td>\n",
              "      <td>...</td>\n",
              "      <td>...</td>\n",
              "    </tr>\n",
              "    <tr>\n",
              "      <th>346</th>\n",
              "      <td>1</td>\n",
              "      <td>0</td>\n",
              "      <td>0.83508</td>\n",
              "      <td>0.08298</td>\n",
              "      <td>0.73739</td>\n",
              "      <td>-0.14706</td>\n",
              "      <td>0.84349</td>\n",
              "      <td>-0.05567</td>\n",
              "      <td>0.90441</td>\n",
              "      <td>-0.04622</td>\n",
              "      <td>0.89391</td>\n",
              "      <td>0.13130</td>\n",
              "      <td>0.81197</td>\n",
              "      <td>0.06723</td>\n",
              "      <td>0.79307</td>\n",
              "      <td>-0.08929</td>\n",
              "      <td>1.00000</td>\n",
              "      <td>-0.02101</td>\n",
              "      <td>0.96639</td>\n",
              "      <td>0.06618</td>\n",
              "      <td>0.87605</td>\n",
              "      <td>0.01155</td>\n",
              "      <td>0.77521</td>\n",
              "      <td>0.06618</td>\n",
              "      <td>0.95378</td>\n",
              "      <td>-0.04202</td>\n",
              "      <td>0.83479</td>\n",
              "      <td>0.00123</td>\n",
              "      <td>1.00000</td>\n",
              "      <td>0.12815</td>\n",
              "      <td>0.86660</td>\n",
              "      <td>-0.10714</td>\n",
              "      <td>0.90546</td>\n",
              "      <td>-0.04307</td>\n",
              "      <td>1</td>\n",
              "    </tr>\n",
              "    <tr>\n",
              "      <th>347</th>\n",
              "      <td>1</td>\n",
              "      <td>0</td>\n",
              "      <td>0.95113</td>\n",
              "      <td>0.00419</td>\n",
              "      <td>0.95183</td>\n",
              "      <td>-0.02723</td>\n",
              "      <td>0.93438</td>\n",
              "      <td>-0.01920</td>\n",
              "      <td>0.94590</td>\n",
              "      <td>0.01606</td>\n",
              "      <td>0.96510</td>\n",
              "      <td>0.03281</td>\n",
              "      <td>0.94171</td>\n",
              "      <td>0.07330</td>\n",
              "      <td>0.94625</td>\n",
              "      <td>-0.01326</td>\n",
              "      <td>0.97173</td>\n",
              "      <td>0.00140</td>\n",
              "      <td>0.94834</td>\n",
              "      <td>0.06038</td>\n",
              "      <td>0.92670</td>\n",
              "      <td>0.08412</td>\n",
              "      <td>0.93124</td>\n",
              "      <td>0.10087</td>\n",
              "      <td>0.94520</td>\n",
              "      <td>0.01361</td>\n",
              "      <td>0.93522</td>\n",
              "      <td>0.04925</td>\n",
              "      <td>0.93159</td>\n",
              "      <td>0.08168</td>\n",
              "      <td>0.94066</td>\n",
              "      <td>-0.00035</td>\n",
              "      <td>0.91483</td>\n",
              "      <td>0.04712</td>\n",
              "      <td>1</td>\n",
              "    </tr>\n",
              "    <tr>\n",
              "      <th>348</th>\n",
              "      <td>1</td>\n",
              "      <td>0</td>\n",
              "      <td>0.94701</td>\n",
              "      <td>-0.00034</td>\n",
              "      <td>0.93207</td>\n",
              "      <td>-0.03227</td>\n",
              "      <td>0.95177</td>\n",
              "      <td>-0.03431</td>\n",
              "      <td>0.95584</td>\n",
              "      <td>0.02446</td>\n",
              "      <td>0.94124</td>\n",
              "      <td>0.01766</td>\n",
              "      <td>0.92595</td>\n",
              "      <td>0.04688</td>\n",
              "      <td>0.93954</td>\n",
              "      <td>-0.01461</td>\n",
              "      <td>0.94837</td>\n",
              "      <td>0.02004</td>\n",
              "      <td>0.93784</td>\n",
              "      <td>0.01393</td>\n",
              "      <td>0.91406</td>\n",
              "      <td>0.07677</td>\n",
              "      <td>0.89470</td>\n",
              "      <td>0.06148</td>\n",
              "      <td>0.93988</td>\n",
              "      <td>0.03193</td>\n",
              "      <td>0.92489</td>\n",
              "      <td>0.02542</td>\n",
              "      <td>0.92120</td>\n",
              "      <td>0.02242</td>\n",
              "      <td>0.92459</td>\n",
              "      <td>0.00442</td>\n",
              "      <td>0.92697</td>\n",
              "      <td>-0.00577</td>\n",
              "      <td>1</td>\n",
              "    </tr>\n",
              "    <tr>\n",
              "      <th>349</th>\n",
              "      <td>1</td>\n",
              "      <td>0</td>\n",
              "      <td>0.90608</td>\n",
              "      <td>-0.01657</td>\n",
              "      <td>0.98122</td>\n",
              "      <td>-0.01989</td>\n",
              "      <td>0.95691</td>\n",
              "      <td>-0.03646</td>\n",
              "      <td>0.85746</td>\n",
              "      <td>0.00110</td>\n",
              "      <td>0.89724</td>\n",
              "      <td>-0.03315</td>\n",
              "      <td>0.89061</td>\n",
              "      <td>-0.01436</td>\n",
              "      <td>0.90608</td>\n",
              "      <td>-0.04530</td>\n",
              "      <td>0.91381</td>\n",
              "      <td>-0.00884</td>\n",
              "      <td>0.80773</td>\n",
              "      <td>-0.12928</td>\n",
              "      <td>0.88729</td>\n",
              "      <td>0.01215</td>\n",
              "      <td>0.92155</td>\n",
              "      <td>-0.02320</td>\n",
              "      <td>0.91050</td>\n",
              "      <td>-0.02099</td>\n",
              "      <td>0.89147</td>\n",
              "      <td>-0.07760</td>\n",
              "      <td>0.82983</td>\n",
              "      <td>-0.17238</td>\n",
              "      <td>0.96022</td>\n",
              "      <td>-0.03757</td>\n",
              "      <td>0.87403</td>\n",
              "      <td>-0.16243</td>\n",
              "      <td>1</td>\n",
              "    </tr>\n",
              "    <tr>\n",
              "      <th>350</th>\n",
              "      <td>1</td>\n",
              "      <td>0</td>\n",
              "      <td>0.84710</td>\n",
              "      <td>0.13533</td>\n",
              "      <td>0.73638</td>\n",
              "      <td>-0.06151</td>\n",
              "      <td>0.87873</td>\n",
              "      <td>0.08260</td>\n",
              "      <td>0.88928</td>\n",
              "      <td>-0.09139</td>\n",
              "      <td>0.78735</td>\n",
              "      <td>0.06678</td>\n",
              "      <td>0.80668</td>\n",
              "      <td>-0.00351</td>\n",
              "      <td>0.79262</td>\n",
              "      <td>-0.01054</td>\n",
              "      <td>0.85764</td>\n",
              "      <td>-0.04569</td>\n",
              "      <td>0.87170</td>\n",
              "      <td>-0.03515</td>\n",
              "      <td>0.81722</td>\n",
              "      <td>-0.09490</td>\n",
              "      <td>0.71002</td>\n",
              "      <td>0.04394</td>\n",
              "      <td>0.86467</td>\n",
              "      <td>-0.15114</td>\n",
              "      <td>0.81147</td>\n",
              "      <td>-0.04822</td>\n",
              "      <td>0.78207</td>\n",
              "      <td>-0.00703</td>\n",
              "      <td>0.75747</td>\n",
              "      <td>-0.06678</td>\n",
              "      <td>0.85764</td>\n",
              "      <td>-0.06151</td>\n",
              "      <td>1</td>\n",
              "    </tr>\n",
              "  </tbody>\n",
              "</table>\n",
              "<p>351 rows × 35 columns</p>\n",
              "</div>"
            ],
            "text/plain": [
              "     column_a column_b  column_c  ...  column_ag  column_ah  column_ai\n",
              "0           1        0   0.99539  ...    0.18641   -0.45300          1\n",
              "1           1        0   1.00000  ...   -0.13738   -0.02447          0\n",
              "2           1        0   1.00000  ...    0.56045   -0.38238          1\n",
              "3           1        0   1.00000  ...   -0.32382    1.00000          0\n",
              "4           1        0   1.00000  ...   -0.04608   -0.65697          1\n",
              "..        ...      ...       ...  ...        ...        ...        ...\n",
              "346         1        0   0.83508  ...    0.90546   -0.04307          1\n",
              "347         1        0   0.95113  ...    0.91483    0.04712          1\n",
              "348         1        0   0.94701  ...    0.92697   -0.00577          1\n",
              "349         1        0   0.90608  ...    0.87403   -0.16243          1\n",
              "350         1        0   0.84710  ...    0.85764   -0.06151          1\n",
              "\n",
              "[351 rows x 35 columns]"
            ]
          },
          "metadata": {
            "tags": []
          },
          "execution_count": 32
        }
      ]
    },
    {
      "cell_type": "markdown",
      "metadata": {
        "id": "M5uNCs1-h_Ps"
      },
      "source": [
        "**INFORMATION REGARDING THE DATASET AND THE DISTRIBUTION OF PREDICTION DATA**\n",
        "\n",
        "\n",
        "---\n",
        "\n",
        "\n"
      ]
    },
    {
      "cell_type": "code",
      "metadata": {
        "id": "rR5-bOCLoqPo",
        "colab": {
          "base_uri": "https://localhost:8080/",
          "height": 156
        },
        "outputId": "fa314bee-4ce9-404f-baf8-81307b6da076"
      },
      "source": [
        "(df.groupby('column_ai')).count()"
      ],
      "execution_count": null,
      "outputs": [
        {
          "output_type": "execute_result",
          "data": {
            "text/html": [
              "<div>\n",
              "<style scoped>\n",
              "    .dataframe tbody tr th:only-of-type {\n",
              "        vertical-align: middle;\n",
              "    }\n",
              "\n",
              "    .dataframe tbody tr th {\n",
              "        vertical-align: top;\n",
              "    }\n",
              "\n",
              "    .dataframe thead th {\n",
              "        text-align: right;\n",
              "    }\n",
              "</style>\n",
              "<table border=\"1\" class=\"dataframe\">\n",
              "  <thead>\n",
              "    <tr style=\"text-align: right;\">\n",
              "      <th></th>\n",
              "      <th>column_a</th>\n",
              "      <th>column_b</th>\n",
              "      <th>column_c</th>\n",
              "      <th>column_d</th>\n",
              "      <th>column_e</th>\n",
              "      <th>column_f</th>\n",
              "      <th>column_g</th>\n",
              "      <th>column_h</th>\n",
              "      <th>column_i</th>\n",
              "      <th>column_j</th>\n",
              "      <th>column_k</th>\n",
              "      <th>column_l</th>\n",
              "      <th>column_m</th>\n",
              "      <th>column_n</th>\n",
              "      <th>column_o</th>\n",
              "      <th>column_p</th>\n",
              "      <th>column_q</th>\n",
              "      <th>column_r</th>\n",
              "      <th>column_s</th>\n",
              "      <th>column_t</th>\n",
              "      <th>column_u</th>\n",
              "      <th>column_v</th>\n",
              "      <th>column_w</th>\n",
              "      <th>column_x</th>\n",
              "      <th>column_y</th>\n",
              "      <th>column_z</th>\n",
              "      <th>column_aa</th>\n",
              "      <th>column_ab</th>\n",
              "      <th>column_ac</th>\n",
              "      <th>column_ad</th>\n",
              "      <th>column_ae</th>\n",
              "      <th>column_af</th>\n",
              "      <th>column_ag</th>\n",
              "      <th>column_ah</th>\n",
              "    </tr>\n",
              "    <tr>\n",
              "      <th>column_ai</th>\n",
              "      <th></th>\n",
              "      <th></th>\n",
              "      <th></th>\n",
              "      <th></th>\n",
              "      <th></th>\n",
              "      <th></th>\n",
              "      <th></th>\n",
              "      <th></th>\n",
              "      <th></th>\n",
              "      <th></th>\n",
              "      <th></th>\n",
              "      <th></th>\n",
              "      <th></th>\n",
              "      <th></th>\n",
              "      <th></th>\n",
              "      <th></th>\n",
              "      <th></th>\n",
              "      <th></th>\n",
              "      <th></th>\n",
              "      <th></th>\n",
              "      <th></th>\n",
              "      <th></th>\n",
              "      <th></th>\n",
              "      <th></th>\n",
              "      <th></th>\n",
              "      <th></th>\n",
              "      <th></th>\n",
              "      <th></th>\n",
              "      <th></th>\n",
              "      <th></th>\n",
              "      <th></th>\n",
              "      <th></th>\n",
              "      <th></th>\n",
              "      <th></th>\n",
              "    </tr>\n",
              "  </thead>\n",
              "  <tbody>\n",
              "    <tr>\n",
              "      <th>0</th>\n",
              "      <td>126</td>\n",
              "      <td>126</td>\n",
              "      <td>126</td>\n",
              "      <td>126</td>\n",
              "      <td>126</td>\n",
              "      <td>126</td>\n",
              "      <td>126</td>\n",
              "      <td>126</td>\n",
              "      <td>126</td>\n",
              "      <td>126</td>\n",
              "      <td>126</td>\n",
              "      <td>126</td>\n",
              "      <td>126</td>\n",
              "      <td>126</td>\n",
              "      <td>126</td>\n",
              "      <td>126</td>\n",
              "      <td>126</td>\n",
              "      <td>126</td>\n",
              "      <td>126</td>\n",
              "      <td>126</td>\n",
              "      <td>126</td>\n",
              "      <td>126</td>\n",
              "      <td>126</td>\n",
              "      <td>126</td>\n",
              "      <td>126</td>\n",
              "      <td>126</td>\n",
              "      <td>126</td>\n",
              "      <td>126</td>\n",
              "      <td>126</td>\n",
              "      <td>126</td>\n",
              "      <td>126</td>\n",
              "      <td>126</td>\n",
              "      <td>126</td>\n",
              "      <td>126</td>\n",
              "    </tr>\n",
              "    <tr>\n",
              "      <th>1</th>\n",
              "      <td>225</td>\n",
              "      <td>225</td>\n",
              "      <td>225</td>\n",
              "      <td>225</td>\n",
              "      <td>225</td>\n",
              "      <td>225</td>\n",
              "      <td>225</td>\n",
              "      <td>225</td>\n",
              "      <td>225</td>\n",
              "      <td>225</td>\n",
              "      <td>225</td>\n",
              "      <td>225</td>\n",
              "      <td>225</td>\n",
              "      <td>225</td>\n",
              "      <td>225</td>\n",
              "      <td>225</td>\n",
              "      <td>225</td>\n",
              "      <td>225</td>\n",
              "      <td>225</td>\n",
              "      <td>225</td>\n",
              "      <td>225</td>\n",
              "      <td>225</td>\n",
              "      <td>225</td>\n",
              "      <td>225</td>\n",
              "      <td>225</td>\n",
              "      <td>225</td>\n",
              "      <td>225</td>\n",
              "      <td>225</td>\n",
              "      <td>225</td>\n",
              "      <td>225</td>\n",
              "      <td>225</td>\n",
              "      <td>225</td>\n",
              "      <td>225</td>\n",
              "      <td>225</td>\n",
              "    </tr>\n",
              "  </tbody>\n",
              "</table>\n",
              "</div>"
            ],
            "text/plain": [
              "           column_a  column_b  column_c  ...  column_af  column_ag  column_ah\n",
              "column_ai                                ...                                 \n",
              "0               126       126       126  ...        126        126        126\n",
              "1               225       225       225  ...        225        225        225\n",
              "\n",
              "[2 rows x 34 columns]"
            ]
          },
          "metadata": {
            "tags": []
          },
          "execution_count": 10
        }
      ]
    },
    {
      "cell_type": "code",
      "metadata": {
        "id": "Wmalh48BPg1B",
        "colab": {
          "base_uri": "https://localhost:8080/",
          "height": 520
        },
        "outputId": "d7e044a5-2fb8-4ac2-edf0-498c729533f3"
      },
      "source": [
        "print(df['column_ai'].value_counts())\n",
        "print(\"______________________\")\n",
        "print(\"________PLOT__________\")\n",
        "print(\"______________________\")\n",
        "print(\"\\n\")\n",
        "sns.displot(df, x=\"column_ai\",color='red')"
      ],
      "execution_count": null,
      "outputs": [
        {
          "output_type": "stream",
          "text": [
            "1    225\n",
            "0    126\n",
            "Name: column_ai, dtype: int64\n",
            "______________________\n",
            "________PLOT__________\n",
            "______________________\n",
            "\n",
            "\n"
          ],
          "name": "stdout"
        },
        {
          "output_type": "execute_result",
          "data": {
            "text/plain": [
              "<seaborn.axisgrid.FacetGrid at 0x7f70de1b5358>"
            ]
          },
          "metadata": {
            "tags": []
          },
          "execution_count": 11
        },
        {
          "output_type": "display_data",
          "data": {
            "image/png": "[encoded data removed]",
            "text/plain": [
              "<Figure size 360x360 with 1 Axes>"
            ]
          },
          "metadata": {
            "tags": [],
            "needs_background": "light"
          }
        }
      ]
    },
    {
      "cell_type": "markdown",
      "metadata": {
        "id": "RrlsakjCiY1-"
      },
      "source": [
        "**SPLITTING THE DATA**\n",
        "\n",
        "---\n",
        "\n"
      ]
    },
    {
      "cell_type": "code",
      "metadata": {
        "id": "IizXRUpEHO0t"
      },
      "source": [
        "df1=df.values\n",
        "m2=len(df['column_ai']) \n",
        "X=np.asarray(df1[:,0:34].reshape(m2,34)) \n",
        "y=np.asarray(df['column_ai'])"
      ],
      "execution_count": null,
      "outputs": []
    },
    {
      "cell_type": "markdown",
      "metadata": {
        "id": "BblWuwmrilTw"
      },
      "source": [
        "\n",
        "\n",
        "> Indented block\n",
        "\n",
        "\n",
        "\n",
        "---\n",
        "\n",
        "\n",
        "**TASK 1 : TO SPLIT THE DATA IN 8:2 RATION AND TABULATE THE RESULT**\n",
        "\n",
        "\n",
        "---\n",
        "\n"
      ]
    },
    {
      "cell_type": "markdown",
      "metadata": {
        "id": "rEI_P86Siz2_"
      },
      "source": [
        "\n",
        "\n",
        "---\n",
        "\n",
        "\n",
        "**TASK1:PART 1[SVM]**\n",
        "\n",
        "\n",
        "---\n",
        "\n"
      ]
    },
    {
      "cell_type": "code",
      "metadata": {
        "id": "SKvrgxvhIn69"
      },
      "source": [
        "X_train, X_test, Y_train, Y_test = train_test_split(X,y,test_size=0.2)"
      ],
      "execution_count": null,
      "outputs": []
    },
    {
      "cell_type": "code",
      "metadata": {
        "id": "1WZC4zo3U0WR",
        "colab": {
          "base_uri": "https://localhost:8080/"
        },
        "outputId": "38c40fe3-1877-4036-95bb-875ea2238155"
      },
      "source": [
        "from sklearn.svm import SVC\n",
        "svc=SVC(kernel='linear')\n",
        "svc.fit(X_train,Y_train)\n",
        "ypredict=svc.predict(X_test)\n",
        "print(classification_report(Y_test,ypredict))\n",
        "print(\"_____________\")"
      ],
      "execution_count": null,
      "outputs": [
        {
          "output_type": "stream",
          "text": [
            "              precision    recall  f1-score   support\n",
            "\n",
            "           0       0.92      0.71      0.80        34\n",
            "           1       0.78      0.95      0.85        37\n",
            "\n",
            "    accuracy                           0.83        71\n",
            "   macro avg       0.85      0.83      0.83        71\n",
            "weighted avg       0.85      0.83      0.83        71\n",
            "\n",
            "_____________\n"
          ],
          "name": "stdout"
        }
      ]
    },
    {
      "cell_type": "markdown",
      "metadata": {
        "id": "_fB9fhygi83D"
      },
      "source": [
        "\n",
        "\n",
        "---\n",
        "\n",
        "\n",
        "**TASK1:PART 2[RANDOM FOREST]**\n",
        "\n",
        "\n",
        "---\n",
        "\n"
      ]
    },
    {
      "cell_type": "code",
      "metadata": {
        "id": "lS7Bs62LHdNT",
        "colab": {
          "base_uri": "https://localhost:8080/"
        },
        "outputId": "1a5f6415-b60a-4d15-8294-045729aca34a"
      },
      "source": [
        "\n",
        "rfc = RandomForestClassifier() \n",
        "rfc.fit(X_train,Y_train) \n",
        "\n",
        "rfc_predict = rfc.predict(X_test)\n",
        "print(classification_report(Y_test,rfc_predict))\n",
        "print(\"_____________\")"
      ],
      "execution_count": null,
      "outputs": [
        {
          "output_type": "stream",
          "text": [
            "              precision    recall  f1-score   support\n",
            "\n",
            "           0       0.97      0.91      0.94        34\n",
            "           1       0.92      0.97      0.95        37\n",
            "\n",
            "    accuracy                           0.94        71\n",
            "   macro avg       0.95      0.94      0.94        71\n",
            "weighted avg       0.94      0.94      0.94        71\n",
            "\n",
            "_____________\n"
          ],
          "name": "stdout"
        }
      ]
    },
    {
      "cell_type": "markdown",
      "metadata": {
        "id": "-blbsQeNbZfS"
      },
      "source": [
        "\n",
        "\n",
        "---\n",
        "\n",
        "\n",
        "**TASK 2:TO USE 10-FOLD CROSS VERIFICATION AND TABULATE THE RESULT**"
      ]
    },
    {
      "cell_type": "markdown",
      "metadata": {
        "id": "9qxYyLYijNBE"
      },
      "source": [
        "\n",
        "\n",
        "---\n",
        "\n",
        "\n",
        "**TASK2:PART 1[SVM-10FOLD]**\n",
        "\n",
        "\n",
        "---\n",
        "\n"
      ]
    },
    {
      "cell_type": "code",
      "metadata": {
        "id": "3KZCtRv-bbK2",
        "colab": {
          "base_uri": "https://localhost:8080/"
        },
        "outputId": "dc890a8e-ae1c-49d9-c916-7bca9f25f2f5"
      },
      "source": [
        "from sklearn.model_selection import cross_val_score\n",
        "clf = svm.SVC(kernel='linear')\n",
        "scores = cross_val_score(clf, X_train, Y_train, cv=10)\n",
        "for i in range(10):\n",
        "  print(\"ACCURACY OF FOLD\",i+1,\"is\\t\",scores[i])\n",
        "print(\"\\n\\n Mean Accuracy: %0.2f (WITH STANDARD DEVIATION+/- %0.2f)\" % (scores.mean(), scores.std() * 2))\n"
      ],
      "execution_count": null,
      "outputs": [
        {
          "output_type": "stream",
          "text": [
            "ACCURACY OF FOLD 1 is\t 0.8928571428571429\n",
            "ACCURACY OF FOLD 2 is\t 0.9285714285714286\n",
            "ACCURACY OF FOLD 3 is\t 0.8571428571428571\n",
            "ACCURACY OF FOLD 4 is\t 0.8214285714285714\n",
            "ACCURACY OF FOLD 5 is\t 0.9285714285714286\n",
            "ACCURACY OF FOLD 6 is\t 0.8571428571428571\n",
            "ACCURACY OF FOLD 7 is\t 0.9642857142857143\n",
            "ACCURACY OF FOLD 8 is\t 0.8571428571428571\n",
            "ACCURACY OF FOLD 9 is\t 0.8928571428571429\n",
            "ACCURACY OF FOLD 10 is\t 0.7857142857142857\n",
            "\n",
            "\n",
            " Mean Accuracy: 0.88 (WITH STANDARD DEVIATION+/- 0.10)\n"
          ],
          "name": "stdout"
        }
      ]
    },
    {
      "cell_type": "code",
      "metadata": {
        "id": "Ce-SPbUsHlyb",
        "colab": {
          "base_uri": "https://localhost:8080/",
          "height": 336
        },
        "outputId": "e635daea-af3b-4765-a542-1fd48356ed1b"
      },
      "source": [
        "fig = plt.figure()\n",
        "ax = fig.add_axes([0,0,1,1])\n",
        "langs = ['0', '1', '2', '3', '4','5','6','7','8','9']\n",
        "ax.bar(langs,scores)\n",
        "plt.show()"
      ],
      "execution_count": null,
      "outputs": [
        {
          "output_type": "display_data",
          "data": {
            "image/png": "[encoded data removed]",
            "text/plain": [
              "<Figure size 432x288 with 1 Axes>"
            ]
          },
          "metadata": {
            "tags": [],
            "needs_background": "light"
          }
        }
      ]
    },
    {
      "cell_type": "code",
      "metadata": {
        "id": "r-i13UPIMceH",
        "colab": {
          "base_uri": "https://localhost:8080/",
          "height": 265
        },
        "outputId": "bc308b02-b19a-473f-dac7-a4a46a054555"
      },
      "source": [
        "import scipy.stats as stats\n",
        "import math\n",
        "\n",
        "mu = scores.mean()\n",
        "variance = scores.std()**2\n",
        "sigma = scores.std()\n",
        "x = np.linspace(mu - 3*sigma, mu + 3*sigma, 100)\n",
        "plt.plot(x, stats.norm.pdf(x, mu, sigma))\n",
        "plt.show()"
      ],
      "execution_count": null,
      "outputs": [
        {
          "output_type": "display_data",
          "data": {
            "image/png": "[encoded data removed]",
            "text/plain": [
              "<Figure size 432x288 with 1 Axes>"
            ]
          },
          "metadata": {
            "tags": [],
            "needs_background": "light"
          }
        }
      ]
    },
    {
      "cell_type": "markdown",
      "metadata": {
        "id": "5ZwqtjG3jSK_"
      },
      "source": [
        "\n",
        "\n",
        "---\n",
        "\n",
        "\n",
        "**TASK2:PART 2[RANDOM FOREST-10FOLD]**\n",
        "\n",
        "---\n",
        "\n"
      ]
    },
    {
      "cell_type": "code",
      "metadata": {
        "id": "oL4EO_e3H-oc",
        "colab": {
          "base_uri": "https://localhost:8080/"
        },
        "outputId": "a13acae2-197b-4b39-cfc8-af710633bf0b"
      },
      "source": [
        "from sklearn.model_selection import cross_val_score\n",
        "rfc = RandomForestClassifier() \n",
        "scores = cross_val_score(rfc, X_train, Y_train, cv=10)\n",
        "for i in range(10):\n",
        "  print(\"ACCURACY OF FOLD\",i+1,\"is\\t\",scores[i])\n",
        "print(\"\\n\\n Mean Accuracy: %0.2f (WITH STANDARD DEVIATION+/- %0.2f)\" % (scores.mean(), scores.std() * 2))"
      ],
      "execution_count": null,
      "outputs": [
        {
          "output_type": "stream",
          "text": [
            "ACCURACY OF FOLD 1 is\t 0.8928571428571429\n",
            "ACCURACY OF FOLD 2 is\t 0.8928571428571429\n",
            "ACCURACY OF FOLD 3 is\t 0.8214285714285714\n",
            "ACCURACY OF FOLD 4 is\t 0.9285714285714286\n",
            "ACCURACY OF FOLD 5 is\t 0.9642857142857143\n",
            "ACCURACY OF FOLD 6 is\t 0.9642857142857143\n",
            "ACCURACY OF FOLD 7 is\t 1.0\n",
            "ACCURACY OF FOLD 8 is\t 0.9642857142857143\n",
            "ACCURACY OF FOLD 9 is\t 0.8928571428571429\n",
            "ACCURACY OF FOLD 10 is\t 1.0\n",
            "\n",
            "\n",
            " Mean Accuracy: 0.93 (WITH STANDARD DEVIATION+/- 0.11)\n"
          ],
          "name": "stdout"
        }
      ]
    },
    {
      "cell_type": "code",
      "metadata": {
        "id": "ofzJL0XsGvpB",
        "colab": {
          "base_uri": "https://localhost:8080/",
          "height": 336
        },
        "outputId": "21f3174e-7411-4328-c54c-4d88e004eb83"
      },
      "source": [
        "fig = plt.figure()\n",
        "ax = fig.add_axes([0,0,1,1])\n",
        "langs = ['0', '1', '2', '3', '4','5','6','7','8','9']\n",
        "ax.bar(langs,scores)\n",
        "plt.show()"
      ],
      "execution_count": null,
      "outputs": [
        {
          "output_type": "display_data",
          "data": {
            "image/png": "[encoded data removed]",
            "text/plain": [
              "<Figure size 432x288 with 1 Axes>"
            ]
          },
          "metadata": {
            "tags": [],
            "needs_background": "light"
          }
        }
      ]
    },
    {
      "cell_type": "code",
      "metadata": {
        "id": "iUCZdgsPLI3Z",
        "colab": {
          "base_uri": "https://localhost:8080/",
          "height": 265
        },
        "outputId": "d6234502-4168-4511-a05f-36bfea77830d"
      },
      "source": [
        "import scipy.stats as stats\n",
        "import math\n",
        "\n",
        "mu = scores.mean()\n",
        "variance = scores.std()**2\n",
        "sigma = scores.std()\n",
        "x = np.linspace(mu - 3*sigma, mu + 3*sigma, 100)\n",
        "plt.plot(x, stats.norm.pdf(x, mu, sigma))\n",
        "plt.show()"
      ],
      "execution_count": null,
      "outputs": [
        {
          "output_type": "display_data",
          "data": {
            "image/png": "[encoded data removed]",
            "text/plain": [
              "<Figure size 432x288 with 1 Axes>"
            ]
          },
          "metadata": {
            "tags": [],
            "needs_background": "light"
          }
        }
      ]
    },
    {
      "cell_type": "markdown",
      "metadata": {
        "id": "8OYHnvT2gNRu"
      },
      "source": [
        "\n",
        "\n",
        "---\n",
        "\n",
        "\n",
        "**TASK 3 : TO CHANGE THE HYPER PARAMETERS OF SVM AND RANDOM FOREST AND TABULATE THE OBSERVATION** *italicized text*\n",
        "\n",
        "\n",
        "---\n",
        "\n"
      ]
    },
    {
      "cell_type": "markdown",
      "metadata": {
        "id": "anfFyIWSjhr9"
      },
      "source": [
        "**TASK3:PART 1[SVM]**\n",
        "\n",
        "\n",
        "---\n",
        "\n"
      ]
    },
    {
      "cell_type": "code",
      "metadata": {
        "id": "VVTrD-1JiVyE",
        "colab": {
          "base_uri": "https://localhost:8080/"
        },
        "outputId": "6885410a-41a6-4d40-eae2-78fdac2efd29"
      },
      "source": [
        "params={'C':[0.001,0.01],\n",
        "        'gamma':[0.001,0.01],\n",
        "        'kernel':['linear','poly','rbf','sigmoid']} \n",
        "\n",
        "grid_search=GridSearchCV(SVC(random_state=0),params,n_jobs=-1)\n",
        "grid_search.fit(X_train,Y_train)\n",
        "\n",
        "print(\"Train Score\"+str(grid_search.score(X_train,Y_train)))\n",
        "\n",
        "print(\"TEST Score\"+str(grid_search.score(X_test,Y_test)))\n",
        "print(grid_search.best_params_)"
      ],
      "execution_count": null,
      "outputs": [
        {
          "output_type": "stream",
          "text": [
            "Train Score0.8571428571428571\n",
            "TEST Score0.7323943661971831\n",
            "{'C': 0.01, 'gamma': 0.001, 'kernel': 'linear'}\n"
          ],
          "name": "stdout"
        }
      ]
    },
    {
      "cell_type": "code",
      "metadata": {
        "id": "wbkTrb--jqQb",
        "colab": {
          "base_uri": "https://localhost:8080/"
        },
        "outputId": "39af1694-0acc-4fb9-90c4-bf4da2e8ab5f"
      },
      "source": [
        "means = grid_search.cv_results_['mean_test_score']\n",
        "stds = grid_search.cv_results_['std_test_score']\n",
        "for mean, std, params in zip(means, stds, grid_search.cv_results_['params']):\n",
        "        print(\"%0.3f (+/-%0.03f) for %r\"% (mean, std * 2, params))"
      ],
      "execution_count": null,
      "outputs": [
        {
          "output_type": "stream",
          "text": [
            "0.671 (+/-0.017) for {'C': 0.001, 'gamma': 0.001, 'kernel': 'linear'}\n",
            "0.671 (+/-0.017) for {'C': 0.001, 'gamma': 0.001, 'kernel': 'poly'}\n",
            "0.671 (+/-0.017) for {'C': 0.001, 'gamma': 0.001, 'kernel': 'rbf'}\n",
            "0.671 (+/-0.017) for {'C': 0.001, 'gamma': 0.001, 'kernel': 'sigmoid'}\n",
            "0.671 (+/-0.017) for {'C': 0.001, 'gamma': 0.01, 'kernel': 'linear'}\n",
            "0.671 (+/-0.017) for {'C': 0.001, 'gamma': 0.01, 'kernel': 'poly'}\n",
            "0.671 (+/-0.017) for {'C': 0.001, 'gamma': 0.01, 'kernel': 'rbf'}\n",
            "0.671 (+/-0.017) for {'C': 0.001, 'gamma': 0.01, 'kernel': 'sigmoid'}\n",
            "0.836 (+/-0.052) for {'C': 0.01, 'gamma': 0.001, 'kernel': 'linear'}\n",
            "0.671 (+/-0.017) for {'C': 0.01, 'gamma': 0.001, 'kernel': 'poly'}\n",
            "0.671 (+/-0.017) for {'C': 0.01, 'gamma': 0.001, 'kernel': 'rbf'}\n",
            "0.671 (+/-0.017) for {'C': 0.01, 'gamma': 0.001, 'kernel': 'sigmoid'}\n",
            "0.836 (+/-0.052) for {'C': 0.01, 'gamma': 0.01, 'kernel': 'linear'}\n",
            "0.671 (+/-0.017) for {'C': 0.01, 'gamma': 0.01, 'kernel': 'poly'}\n",
            "0.671 (+/-0.017) for {'C': 0.01, 'gamma': 0.01, 'kernel': 'rbf'}\n",
            "0.671 (+/-0.017) for {'C': 0.01, 'gamma': 0.01, 'kernel': 'sigmoid'}\n"
          ],
          "name": "stdout"
        }
      ]
    },
    {
      "cell_type": "markdown",
      "metadata": {
        "id": "ajbTe5Czjl5L"
      },
      "source": [
        "\n",
        "\n",
        "---\n",
        "\n",
        "\n",
        "**TASK3:PART 2[RANDOM FOREST]**\n",
        "\n",
        "---\n",
        "\n"
      ]
    },
    {
      "cell_type": "code",
      "metadata": {
        "id": "3PXG1VLTnotP",
        "colab": {
          "base_uri": "https://localhost:8080/"
        },
        "outputId": "2f271640-77d4-48d8-ee73-6ef910be71a2"
      },
      "source": [
        "# Number of trees in random forest\n",
        "#n_estimators = [int(x) for x in np.linspace(start = 10, stop = 80, num = 10)]\n",
        "n_estimators =[10,30]\n",
        "# Number of features to consider at every split\n",
        "max_features = ['auto', 'sqrt']\n",
        "# Maximum number of levels in tree\n",
        "max_depth = [2,4]\n",
        "param_grid = {'n_estimators': n_estimators,'max_features': max_features,'max_depth': max_depth}\n",
        "rf_Model = RandomForestClassifier()\n",
        "rf_Grid = GridSearchCV(estimator = rf_Model, param_grid = param_grid, cv = 3, verbose=2, n_jobs = 4)\n",
        "resulthere=rf_Grid.fit(X_train, Y_train)\n",
        "rf_Grid.best_params_"
      ],
      "execution_count": null,
      "outputs": [
        {
          "output_type": "stream",
          "text": [
            "Fitting 3 folds for each of 8 candidates, totalling 24 fits\n"
          ],
          "name": "stdout"
        },
        {
          "output_type": "stream",
          "text": [
            "[Parallel(n_jobs=4)]: Using backend LokyBackend with 4 concurrent workers.\n",
            "[Parallel(n_jobs=4)]: Done  24 out of  24 | elapsed:    0.7s finished\n"
          ],
          "name": "stderr"
        },
        {
          "output_type": "execute_result",
          "data": {
            "text/plain": [
              "{'max_depth': 4, 'max_features': 'auto', 'n_estimators': 10}"
            ]
          },
          "metadata": {
            "tags": []
          },
          "execution_count": 27
        }
      ]
    },
    {
      "cell_type": "code",
      "metadata": {
        "id": "NnCxE9ClNCS_",
        "colab": {
          "base_uri": "https://localhost:8080/"
        },
        "outputId": "084dc02a-dce6-42e3-9da9-670e738f6561"
      },
      "source": [
        "print (f'Train Accuracy - : {rf_Grid.score(X_train,Y_train):.3f}')\n",
        "print (f'Test Accuracy - : {rf_Grid.score(X_test,Y_test):.3f}')"
      ],
      "execution_count": null,
      "outputs": [
        {
          "output_type": "stream",
          "text": [
            "Train Accuracy - : 0.964\n",
            "Test Accuracy - : 0.887\n"
          ],
          "name": "stdout"
        }
      ]
    },
    {
      "cell_type": "code",
      "metadata": {
        "id": "lq6Uw2tBduxm",
        "colab": {
          "base_uri": "https://localhost:8080/"
        },
        "outputId": "2251fde2-6c60-465b-edfc-66c7b30264a3"
      },
      "source": [
        "means = resulthere.cv_results_['mean_test_score']\n",
        "stds = resulthere.cv_results_['std_test_score']\n",
        "for mean, std, params in zip(means, stds, resulthere.cv_results_['params']):\n",
        "        print(\"%0.3f (+/-%0.03f) for %r\"% (mean, std * 2, params))"
      ],
      "execution_count": null,
      "outputs": [
        {
          "output_type": "stream",
          "text": [
            "0.900 (+/-0.043) for {'max_depth': 2, 'max_features': 'auto', 'n_estimators': 10}\n",
            "0.893 (+/-0.018) for {'max_depth': 2, 'max_features': 'auto', 'n_estimators': 30}\n",
            "0.911 (+/-0.036) for {'max_depth': 2, 'max_features': 'sqrt', 'n_estimators': 10}\n",
            "0.914 (+/-0.052) for {'max_depth': 2, 'max_features': 'sqrt', 'n_estimators': 30}\n",
            "0.932 (+/-0.055) for {'max_depth': 4, 'max_features': 'auto', 'n_estimators': 10}\n",
            "0.922 (+/-0.078) for {'max_depth': 4, 'max_features': 'auto', 'n_estimators': 30}\n",
            "0.918 (+/-0.078) for {'max_depth': 4, 'max_features': 'sqrt', 'n_estimators': 10}\n",
            "0.922 (+/-0.061) for {'max_depth': 4, 'max_features': 'sqrt', 'n_estimators': 30}\n"
          ],
          "name": "stdout"
        }
      ]
    }
  ]
}